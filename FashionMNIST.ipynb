{
  "nbformat": 4,
  "nbformat_minor": 0,
  "metadata": {
    "colab": {
      "name": "FashionMNIST.ipynb",
      "provenance": [],
      "collapsed_sections": [],
      "authorship_tag": "ABX9TyNI8jAAh16g8/T0oaQdqQFJ",
      "include_colab_link": true
    },
    "kernelspec": {
      "name": "python3",
      "display_name": "Python 3"
    },
    "language_info": {
      "name": "python"
    }
  },
  "cells": [
    {
      "cell_type": "markdown",
      "metadata": {
        "id": "view-in-github",
        "colab_type": "text"
      },
      "source": [
        "<a href=\"https://colab.research.google.com/github/SarthakPradhan/Kaggle/blob/main/FashionMNIST.ipynb\" target=\"_parent\"><img src=\"https://colab.research.google.com/assets/colab-badge.svg\" alt=\"Open In Colab\"/></a>"
      ]
    },
    {
      "cell_type": "code",
      "metadata": {
        "id": "F9KiMYlK6Egn"
      },
      "source": [
        "%matplotlib inline\n",
        "import pandas as pd\n",
        "import numpy as np\n",
        "from pandas.plotting import scatter_matrix\n",
        "import matplotlib.pyplot as plt\n",
        "import seaborn as sns\n",
        "from sklearn.compose import ColumnTransformer\n",
        "from sklearn.pipeline import Pipeline\n",
        "from sklearn.preprocessing import PolynomialFeatures\n",
        "from sklearn.preprocessing import StandardScaler, OneHotEncoder\n",
        "from sklearn.linear_model import LinearRegression\n",
        "from sklearn.model_selection import train_test_split\n",
        "import scipy.stats as stats\n",
        "import sklearn.linear_model as linear_model\n",
        "from sklearn.preprocessing import OrdinalEncoder\n",
        "import tensorflow as tf\n",
        "from sklearn.linear_model import SGDClassifier\n",
        "from sklearn.model_selection import StratifiedKFold\n",
        "from sklearn.base import clone\n",
        "from sklearn.model_selection import cross_val_score"
      ],
      "execution_count": 2,
      "outputs": []
    },
    {
      "cell_type": "code",
      "metadata": {
        "colab": {
          "base_uri": "https://localhost:8080/"
        },
        "id": "4Qn655u16MKp",
        "outputId": "36117905-5d53-4f10-cafd-64c9127d6d10"
      },
      "source": [
        "from google.colab import drive\n",
        "drive.mount(\"/content/gdrive\")"
      ],
      "execution_count": 3,
      "outputs": [
        {
          "output_type": "stream",
          "name": "stdout",
          "text": [
            "Mounted at /content/gdrive\n"
          ]
        }
      ]
    },
    {
      "cell_type": "code",
      "metadata": {
        "id": "KmKOjAVZ6Z1N"
      },
      "source": [
        "fashion = pd.read_csv(\"/content/gdrive/MyDrive/KaggleDatasets/fashion_mnist/fashion-mnist_train.csv\")\n",
        "fashion_test = pd.read_csv(\"/content/gdrive/MyDrive/KaggleDatasets/fashion_mnist/fashion-mnist_test.csv\")"
      ],
      "execution_count": 4,
      "outputs": []
    },
    {
      "cell_type": "code",
      "metadata": {
        "colab": {
          "base_uri": "https://localhost:8080/",
          "height": 349
        },
        "id": "CM2kvIdT6r6k",
        "outputId": "7770a5c8-ec11-4d89-f466-d86ad89231f3"
      },
      "source": [
        "fashion.describe()"
      ],
      "execution_count": 5,
      "outputs": [
        {
          "output_type": "execute_result",
          "data": {
            "text/html": [
              "<div>\n",
              "<style scoped>\n",
              "    .dataframe tbody tr th:only-of-type {\n",
              "        vertical-align: middle;\n",
              "    }\n",
              "\n",
              "    .dataframe tbody tr th {\n",
              "        vertical-align: top;\n",
              "    }\n",
              "\n",
              "    .dataframe thead th {\n",
              "        text-align: right;\n",
              "    }\n",
              "</style>\n",
              "<table border=\"1\" class=\"dataframe\">\n",
              "  <thead>\n",
              "    <tr style=\"text-align: right;\">\n",
              "      <th></th>\n",
              "      <th>label</th>\n",
              "      <th>pixel1</th>\n",
              "      <th>pixel2</th>\n",
              "      <th>pixel3</th>\n",
              "      <th>pixel4</th>\n",
              "      <th>pixel5</th>\n",
              "      <th>pixel6</th>\n",
              "      <th>pixel7</th>\n",
              "      <th>pixel8</th>\n",
              "      <th>pixel9</th>\n",
              "      <th>pixel10</th>\n",
              "      <th>pixel11</th>\n",
              "      <th>pixel12</th>\n",
              "      <th>pixel13</th>\n",
              "      <th>pixel14</th>\n",
              "      <th>pixel15</th>\n",
              "      <th>pixel16</th>\n",
              "      <th>pixel17</th>\n",
              "      <th>pixel18</th>\n",
              "      <th>pixel19</th>\n",
              "      <th>pixel20</th>\n",
              "      <th>pixel21</th>\n",
              "      <th>pixel22</th>\n",
              "      <th>pixel23</th>\n",
              "      <th>pixel24</th>\n",
              "      <th>pixel25</th>\n",
              "      <th>pixel26</th>\n",
              "      <th>pixel27</th>\n",
              "      <th>pixel28</th>\n",
              "      <th>pixel29</th>\n",
              "      <th>pixel30</th>\n",
              "      <th>pixel31</th>\n",
              "      <th>pixel32</th>\n",
              "      <th>pixel33</th>\n",
              "      <th>pixel34</th>\n",
              "      <th>pixel35</th>\n",
              "      <th>pixel36</th>\n",
              "      <th>pixel37</th>\n",
              "      <th>pixel38</th>\n",
              "      <th>pixel39</th>\n",
              "      <th>...</th>\n",
              "      <th>pixel745</th>\n",
              "      <th>pixel746</th>\n",
              "      <th>pixel747</th>\n",
              "      <th>pixel748</th>\n",
              "      <th>pixel749</th>\n",
              "      <th>pixel750</th>\n",
              "      <th>pixel751</th>\n",
              "      <th>pixel752</th>\n",
              "      <th>pixel753</th>\n",
              "      <th>pixel754</th>\n",
              "      <th>pixel755</th>\n",
              "      <th>pixel756</th>\n",
              "      <th>pixel757</th>\n",
              "      <th>pixel758</th>\n",
              "      <th>pixel759</th>\n",
              "      <th>pixel760</th>\n",
              "      <th>pixel761</th>\n",
              "      <th>pixel762</th>\n",
              "      <th>pixel763</th>\n",
              "      <th>pixel764</th>\n",
              "      <th>pixel765</th>\n",
              "      <th>pixel766</th>\n",
              "      <th>pixel767</th>\n",
              "      <th>pixel768</th>\n",
              "      <th>pixel769</th>\n",
              "      <th>pixel770</th>\n",
              "      <th>pixel771</th>\n",
              "      <th>pixel772</th>\n",
              "      <th>pixel773</th>\n",
              "      <th>pixel774</th>\n",
              "      <th>pixel775</th>\n",
              "      <th>pixel776</th>\n",
              "      <th>pixel777</th>\n",
              "      <th>pixel778</th>\n",
              "      <th>pixel779</th>\n",
              "      <th>pixel780</th>\n",
              "      <th>pixel781</th>\n",
              "      <th>pixel782</th>\n",
              "      <th>pixel783</th>\n",
              "      <th>pixel784</th>\n",
              "    </tr>\n",
              "  </thead>\n",
              "  <tbody>\n",
              "    <tr>\n",
              "      <th>count</th>\n",
              "      <td>60000.000000</td>\n",
              "      <td>60000.000000</td>\n",
              "      <td>60000.000000</td>\n",
              "      <td>60000.000000</td>\n",
              "      <td>60000.000000</td>\n",
              "      <td>60000.000000</td>\n",
              "      <td>60000.000000</td>\n",
              "      <td>60000.000000</td>\n",
              "      <td>60000.000000</td>\n",
              "      <td>60000.000000</td>\n",
              "      <td>60000.000000</td>\n",
              "      <td>60000.000000</td>\n",
              "      <td>60000.000000</td>\n",
              "      <td>60000.000000</td>\n",
              "      <td>60000.00000</td>\n",
              "      <td>60000.000000</td>\n",
              "      <td>60000.000000</td>\n",
              "      <td>60000.000000</td>\n",
              "      <td>60000.000000</td>\n",
              "      <td>60000.000000</td>\n",
              "      <td>60000.000000</td>\n",
              "      <td>60000.000000</td>\n",
              "      <td>60000.000000</td>\n",
              "      <td>60000.000000</td>\n",
              "      <td>60000.000000</td>\n",
              "      <td>60000.000000</td>\n",
              "      <td>60000.000000</td>\n",
              "      <td>60000.000000</td>\n",
              "      <td>60000.000000</td>\n",
              "      <td>60000.000000</td>\n",
              "      <td>60000.000000</td>\n",
              "      <td>60000.000000</td>\n",
              "      <td>60000.000000</td>\n",
              "      <td>60000.000000</td>\n",
              "      <td>60000.000000</td>\n",
              "      <td>60000.000000</td>\n",
              "      <td>60000.000000</td>\n",
              "      <td>60000.000000</td>\n",
              "      <td>60000.000000</td>\n",
              "      <td>60000.000000</td>\n",
              "      <td>...</td>\n",
              "      <td>60000.000000</td>\n",
              "      <td>60000.000000</td>\n",
              "      <td>60000.000000</td>\n",
              "      <td>60000.000000</td>\n",
              "      <td>60000.000000</td>\n",
              "      <td>60000.000000</td>\n",
              "      <td>60000.000000</td>\n",
              "      <td>60000.000000</td>\n",
              "      <td>60000.000000</td>\n",
              "      <td>60000.000000</td>\n",
              "      <td>60000.000000</td>\n",
              "      <td>60000.000000</td>\n",
              "      <td>60000.000000</td>\n",
              "      <td>60000.000000</td>\n",
              "      <td>60000.000000</td>\n",
              "      <td>60000.000000</td>\n",
              "      <td>60000.000000</td>\n",
              "      <td>60000.000000</td>\n",
              "      <td>60000.000000</td>\n",
              "      <td>60000.000000</td>\n",
              "      <td>60000.000000</td>\n",
              "      <td>60000.000000</td>\n",
              "      <td>60000.000000</td>\n",
              "      <td>60000.000000</td>\n",
              "      <td>60000.00000</td>\n",
              "      <td>60000.000000</td>\n",
              "      <td>60000.000000</td>\n",
              "      <td>60000.000000</td>\n",
              "      <td>60000.000000</td>\n",
              "      <td>60000.000000</td>\n",
              "      <td>60000.000000</td>\n",
              "      <td>60000.000000</td>\n",
              "      <td>60000.000000</td>\n",
              "      <td>60000.000000</td>\n",
              "      <td>60000.000000</td>\n",
              "      <td>60000.000000</td>\n",
              "      <td>60000.000000</td>\n",
              "      <td>60000.000000</td>\n",
              "      <td>60000.000000</td>\n",
              "      <td>60000.00000</td>\n",
              "    </tr>\n",
              "    <tr>\n",
              "      <th>mean</th>\n",
              "      <td>4.500000</td>\n",
              "      <td>0.000900</td>\n",
              "      <td>0.006150</td>\n",
              "      <td>0.035333</td>\n",
              "      <td>0.101933</td>\n",
              "      <td>0.247967</td>\n",
              "      <td>0.411467</td>\n",
              "      <td>0.805767</td>\n",
              "      <td>2.198283</td>\n",
              "      <td>5.682000</td>\n",
              "      <td>14.488767</td>\n",
              "      <td>32.830583</td>\n",
              "      <td>45.731017</td>\n",
              "      <td>52.064083</td>\n",
              "      <td>50.80245</td>\n",
              "      <td>50.459150</td>\n",
              "      <td>53.796217</td>\n",
              "      <td>51.396233</td>\n",
              "      <td>40.432733</td>\n",
              "      <td>26.083333</td>\n",
              "      <td>10.420583</td>\n",
              "      <td>4.079750</td>\n",
              "      <td>1.938183</td>\n",
              "      <td>1.177650</td>\n",
              "      <td>0.857983</td>\n",
              "      <td>0.461133</td>\n",
              "      <td>0.244300</td>\n",
              "      <td>0.092667</td>\n",
              "      <td>0.018333</td>\n",
              "      <td>0.006400</td>\n",
              "      <td>0.020617</td>\n",
              "      <td>0.098967</td>\n",
              "      <td>0.357200</td>\n",
              "      <td>0.767217</td>\n",
              "      <td>2.104583</td>\n",
              "      <td>7.331483</td>\n",
              "      <td>17.472317</td>\n",
              "      <td>32.009017</td>\n",
              "      <td>52.814583</td>\n",
              "      <td>79.349917</td>\n",
              "      <td>...</td>\n",
              "      <td>92.470233</td>\n",
              "      <td>90.523350</td>\n",
              "      <td>79.255767</td>\n",
              "      <td>62.576500</td>\n",
              "      <td>45.753283</td>\n",
              "      <td>43.970183</td>\n",
              "      <td>47.772400</td>\n",
              "      <td>38.841583</td>\n",
              "      <td>22.306933</td>\n",
              "      <td>9.280517</td>\n",
              "      <td>3.955417</td>\n",
              "      <td>0.631000</td>\n",
              "      <td>0.024633</td>\n",
              "      <td>0.218117</td>\n",
              "      <td>1.027250</td>\n",
              "      <td>4.352033</td>\n",
              "      <td>12.568183</td>\n",
              "      <td>20.847967</td>\n",
              "      <td>21.076467</td>\n",
              "      <td>17.152267</td>\n",
              "      <td>22.114933</td>\n",
              "      <td>30.559350</td>\n",
              "      <td>41.743617</td>\n",
              "      <td>51.506583</td>\n",
              "      <td>52.60855</td>\n",
              "      <td>46.479783</td>\n",
              "      <td>42.612733</td>\n",
              "      <td>45.309733</td>\n",
              "      <td>50.162100</td>\n",
              "      <td>46.438617</td>\n",
              "      <td>34.625400</td>\n",
              "      <td>23.300683</td>\n",
              "      <td>16.588267</td>\n",
              "      <td>17.869433</td>\n",
              "      <td>22.814817</td>\n",
              "      <td>17.911483</td>\n",
              "      <td>8.520633</td>\n",
              "      <td>2.753300</td>\n",
              "      <td>0.855517</td>\n",
              "      <td>0.07025</td>\n",
              "    </tr>\n",
              "    <tr>\n",
              "      <th>std</th>\n",
              "      <td>2.872305</td>\n",
              "      <td>0.094689</td>\n",
              "      <td>0.271011</td>\n",
              "      <td>1.222324</td>\n",
              "      <td>2.452871</td>\n",
              "      <td>4.306912</td>\n",
              "      <td>5.836188</td>\n",
              "      <td>8.215169</td>\n",
              "      <td>14.093378</td>\n",
              "      <td>23.819481</td>\n",
              "      <td>38.334549</td>\n",
              "      <td>57.633860</td>\n",
              "      <td>65.964300</td>\n",
              "      <td>68.603587</td>\n",
              "      <td>67.86885</td>\n",
              "      <td>67.370188</td>\n",
              "      <td>69.467796</td>\n",
              "      <td>67.912739</td>\n",
              "      <td>62.639596</td>\n",
              "      <td>51.818389</td>\n",
              "      <td>32.591095</td>\n",
              "      <td>20.118496</td>\n",
              "      <td>13.953210</td>\n",
              "      <td>10.718718</td>\n",
              "      <td>9.256114</td>\n",
              "      <td>6.768024</td>\n",
              "      <td>4.953103</td>\n",
              "      <td>2.850576</td>\n",
              "      <td>1.232175</td>\n",
              "      <td>0.548966</td>\n",
              "      <td>1.184869</td>\n",
              "      <td>2.912779</td>\n",
              "      <td>6.523878</td>\n",
              "      <td>9.702476</td>\n",
              "      <td>15.977721</td>\n",
              "      <td>30.056073</td>\n",
              "      <td>47.953585</td>\n",
              "      <td>65.625544</td>\n",
              "      <td>82.122567</td>\n",
              "      <td>95.340204</td>\n",
              "      <td>...</td>\n",
              "      <td>100.912013</td>\n",
              "      <td>99.731484</td>\n",
              "      <td>95.172029</td>\n",
              "      <td>88.844198</td>\n",
              "      <td>78.434831</td>\n",
              "      <td>76.970849</td>\n",
              "      <td>83.212136</td>\n",
              "      <td>74.477031</td>\n",
              "      <td>55.983447</td>\n",
              "      <td>37.937984</td>\n",
              "      <td>24.953295</td>\n",
              "      <td>8.146274</td>\n",
              "      <td>0.968474</td>\n",
              "      <td>4.444904</td>\n",
              "      <td>10.030021</td>\n",
              "      <td>20.912278</td>\n",
              "      <td>36.920905</td>\n",
              "      <td>48.909477</td>\n",
              "      <td>48.263137</td>\n",
              "      <td>42.173000</td>\n",
              "      <td>48.241135</td>\n",
              "      <td>54.902062</td>\n",
              "      <td>61.963606</td>\n",
              "      <td>68.331468</td>\n",
              "      <td>69.76041</td>\n",
              "      <td>67.476669</td>\n",
              "      <td>66.267004</td>\n",
              "      <td>66.737520</td>\n",
              "      <td>68.705817</td>\n",
              "      <td>65.944847</td>\n",
              "      <td>57.545242</td>\n",
              "      <td>48.854427</td>\n",
              "      <td>41.979611</td>\n",
              "      <td>43.966032</td>\n",
              "      <td>51.830477</td>\n",
              "      <td>45.149388</td>\n",
              "      <td>29.614859</td>\n",
              "      <td>17.397652</td>\n",
              "      <td>9.356960</td>\n",
              "      <td>2.12587</td>\n",
              "    </tr>\n",
              "    <tr>\n",
              "      <th>min</th>\n",
              "      <td>0.000000</td>\n",
              "      <td>0.000000</td>\n",
              "      <td>0.000000</td>\n",
              "      <td>0.000000</td>\n",
              "      <td>0.000000</td>\n",
              "      <td>0.000000</td>\n",
              "      <td>0.000000</td>\n",
              "      <td>0.000000</td>\n",
              "      <td>0.000000</td>\n",
              "      <td>0.000000</td>\n",
              "      <td>0.000000</td>\n",
              "      <td>0.000000</td>\n",
              "      <td>0.000000</td>\n",
              "      <td>0.000000</td>\n",
              "      <td>0.00000</td>\n",
              "      <td>0.000000</td>\n",
              "      <td>0.000000</td>\n",
              "      <td>0.000000</td>\n",
              "      <td>0.000000</td>\n",
              "      <td>0.000000</td>\n",
              "      <td>0.000000</td>\n",
              "      <td>0.000000</td>\n",
              "      <td>0.000000</td>\n",
              "      <td>0.000000</td>\n",
              "      <td>0.000000</td>\n",
              "      <td>0.000000</td>\n",
              "      <td>0.000000</td>\n",
              "      <td>0.000000</td>\n",
              "      <td>0.000000</td>\n",
              "      <td>0.000000</td>\n",
              "      <td>0.000000</td>\n",
              "      <td>0.000000</td>\n",
              "      <td>0.000000</td>\n",
              "      <td>0.000000</td>\n",
              "      <td>0.000000</td>\n",
              "      <td>0.000000</td>\n",
              "      <td>0.000000</td>\n",
              "      <td>0.000000</td>\n",
              "      <td>0.000000</td>\n",
              "      <td>0.000000</td>\n",
              "      <td>...</td>\n",
              "      <td>0.000000</td>\n",
              "      <td>0.000000</td>\n",
              "      <td>0.000000</td>\n",
              "      <td>0.000000</td>\n",
              "      <td>0.000000</td>\n",
              "      <td>0.000000</td>\n",
              "      <td>0.000000</td>\n",
              "      <td>0.000000</td>\n",
              "      <td>0.000000</td>\n",
              "      <td>0.000000</td>\n",
              "      <td>0.000000</td>\n",
              "      <td>0.000000</td>\n",
              "      <td>0.000000</td>\n",
              "      <td>0.000000</td>\n",
              "      <td>0.000000</td>\n",
              "      <td>0.000000</td>\n",
              "      <td>0.000000</td>\n",
              "      <td>0.000000</td>\n",
              "      <td>0.000000</td>\n",
              "      <td>0.000000</td>\n",
              "      <td>0.000000</td>\n",
              "      <td>0.000000</td>\n",
              "      <td>0.000000</td>\n",
              "      <td>0.000000</td>\n",
              "      <td>0.00000</td>\n",
              "      <td>0.000000</td>\n",
              "      <td>0.000000</td>\n",
              "      <td>0.000000</td>\n",
              "      <td>0.000000</td>\n",
              "      <td>0.000000</td>\n",
              "      <td>0.000000</td>\n",
              "      <td>0.000000</td>\n",
              "      <td>0.000000</td>\n",
              "      <td>0.000000</td>\n",
              "      <td>0.000000</td>\n",
              "      <td>0.000000</td>\n",
              "      <td>0.000000</td>\n",
              "      <td>0.000000</td>\n",
              "      <td>0.000000</td>\n",
              "      <td>0.00000</td>\n",
              "    </tr>\n",
              "    <tr>\n",
              "      <th>25%</th>\n",
              "      <td>2.000000</td>\n",
              "      <td>0.000000</td>\n",
              "      <td>0.000000</td>\n",
              "      <td>0.000000</td>\n",
              "      <td>0.000000</td>\n",
              "      <td>0.000000</td>\n",
              "      <td>0.000000</td>\n",
              "      <td>0.000000</td>\n",
              "      <td>0.000000</td>\n",
              "      <td>0.000000</td>\n",
              "      <td>0.000000</td>\n",
              "      <td>0.000000</td>\n",
              "      <td>0.000000</td>\n",
              "      <td>0.000000</td>\n",
              "      <td>0.00000</td>\n",
              "      <td>0.000000</td>\n",
              "      <td>0.000000</td>\n",
              "      <td>0.000000</td>\n",
              "      <td>0.000000</td>\n",
              "      <td>0.000000</td>\n",
              "      <td>0.000000</td>\n",
              "      <td>0.000000</td>\n",
              "      <td>0.000000</td>\n",
              "      <td>0.000000</td>\n",
              "      <td>0.000000</td>\n",
              "      <td>0.000000</td>\n",
              "      <td>0.000000</td>\n",
              "      <td>0.000000</td>\n",
              "      <td>0.000000</td>\n",
              "      <td>0.000000</td>\n",
              "      <td>0.000000</td>\n",
              "      <td>0.000000</td>\n",
              "      <td>0.000000</td>\n",
              "      <td>0.000000</td>\n",
              "      <td>0.000000</td>\n",
              "      <td>0.000000</td>\n",
              "      <td>0.000000</td>\n",
              "      <td>0.000000</td>\n",
              "      <td>0.000000</td>\n",
              "      <td>0.000000</td>\n",
              "      <td>...</td>\n",
              "      <td>0.000000</td>\n",
              "      <td>0.000000</td>\n",
              "      <td>0.000000</td>\n",
              "      <td>0.000000</td>\n",
              "      <td>0.000000</td>\n",
              "      <td>0.000000</td>\n",
              "      <td>0.000000</td>\n",
              "      <td>0.000000</td>\n",
              "      <td>0.000000</td>\n",
              "      <td>0.000000</td>\n",
              "      <td>0.000000</td>\n",
              "      <td>0.000000</td>\n",
              "      <td>0.000000</td>\n",
              "      <td>0.000000</td>\n",
              "      <td>0.000000</td>\n",
              "      <td>0.000000</td>\n",
              "      <td>0.000000</td>\n",
              "      <td>0.000000</td>\n",
              "      <td>0.000000</td>\n",
              "      <td>0.000000</td>\n",
              "      <td>0.000000</td>\n",
              "      <td>0.000000</td>\n",
              "      <td>0.000000</td>\n",
              "      <td>0.000000</td>\n",
              "      <td>0.00000</td>\n",
              "      <td>0.000000</td>\n",
              "      <td>0.000000</td>\n",
              "      <td>0.000000</td>\n",
              "      <td>0.000000</td>\n",
              "      <td>0.000000</td>\n",
              "      <td>0.000000</td>\n",
              "      <td>0.000000</td>\n",
              "      <td>0.000000</td>\n",
              "      <td>0.000000</td>\n",
              "      <td>0.000000</td>\n",
              "      <td>0.000000</td>\n",
              "      <td>0.000000</td>\n",
              "      <td>0.000000</td>\n",
              "      <td>0.000000</td>\n",
              "      <td>0.00000</td>\n",
              "    </tr>\n",
              "    <tr>\n",
              "      <th>50%</th>\n",
              "      <td>4.500000</td>\n",
              "      <td>0.000000</td>\n",
              "      <td>0.000000</td>\n",
              "      <td>0.000000</td>\n",
              "      <td>0.000000</td>\n",
              "      <td>0.000000</td>\n",
              "      <td>0.000000</td>\n",
              "      <td>0.000000</td>\n",
              "      <td>0.000000</td>\n",
              "      <td>0.000000</td>\n",
              "      <td>0.000000</td>\n",
              "      <td>0.000000</td>\n",
              "      <td>0.000000</td>\n",
              "      <td>0.000000</td>\n",
              "      <td>0.00000</td>\n",
              "      <td>0.000000</td>\n",
              "      <td>0.000000</td>\n",
              "      <td>0.000000</td>\n",
              "      <td>0.000000</td>\n",
              "      <td>0.000000</td>\n",
              "      <td>0.000000</td>\n",
              "      <td>0.000000</td>\n",
              "      <td>0.000000</td>\n",
              "      <td>0.000000</td>\n",
              "      <td>0.000000</td>\n",
              "      <td>0.000000</td>\n",
              "      <td>0.000000</td>\n",
              "      <td>0.000000</td>\n",
              "      <td>0.000000</td>\n",
              "      <td>0.000000</td>\n",
              "      <td>0.000000</td>\n",
              "      <td>0.000000</td>\n",
              "      <td>0.000000</td>\n",
              "      <td>0.000000</td>\n",
              "      <td>0.000000</td>\n",
              "      <td>0.000000</td>\n",
              "      <td>0.000000</td>\n",
              "      <td>0.000000</td>\n",
              "      <td>0.000000</td>\n",
              "      <td>3.000000</td>\n",
              "      <td>...</td>\n",
              "      <td>38.000000</td>\n",
              "      <td>32.000000</td>\n",
              "      <td>3.000000</td>\n",
              "      <td>0.000000</td>\n",
              "      <td>0.000000</td>\n",
              "      <td>0.000000</td>\n",
              "      <td>0.000000</td>\n",
              "      <td>0.000000</td>\n",
              "      <td>0.000000</td>\n",
              "      <td>0.000000</td>\n",
              "      <td>0.000000</td>\n",
              "      <td>0.000000</td>\n",
              "      <td>0.000000</td>\n",
              "      <td>0.000000</td>\n",
              "      <td>0.000000</td>\n",
              "      <td>0.000000</td>\n",
              "      <td>0.000000</td>\n",
              "      <td>0.000000</td>\n",
              "      <td>0.000000</td>\n",
              "      <td>0.000000</td>\n",
              "      <td>0.000000</td>\n",
              "      <td>0.000000</td>\n",
              "      <td>0.000000</td>\n",
              "      <td>0.000000</td>\n",
              "      <td>0.00000</td>\n",
              "      <td>0.000000</td>\n",
              "      <td>0.000000</td>\n",
              "      <td>0.000000</td>\n",
              "      <td>0.000000</td>\n",
              "      <td>0.000000</td>\n",
              "      <td>0.000000</td>\n",
              "      <td>0.000000</td>\n",
              "      <td>0.000000</td>\n",
              "      <td>0.000000</td>\n",
              "      <td>0.000000</td>\n",
              "      <td>0.000000</td>\n",
              "      <td>0.000000</td>\n",
              "      <td>0.000000</td>\n",
              "      <td>0.000000</td>\n",
              "      <td>0.00000</td>\n",
              "    </tr>\n",
              "    <tr>\n",
              "      <th>75%</th>\n",
              "      <td>7.000000</td>\n",
              "      <td>0.000000</td>\n",
              "      <td>0.000000</td>\n",
              "      <td>0.000000</td>\n",
              "      <td>0.000000</td>\n",
              "      <td>0.000000</td>\n",
              "      <td>0.000000</td>\n",
              "      <td>0.000000</td>\n",
              "      <td>0.000000</td>\n",
              "      <td>0.000000</td>\n",
              "      <td>0.000000</td>\n",
              "      <td>49.000000</td>\n",
              "      <td>91.000000</td>\n",
              "      <td>105.000000</td>\n",
              "      <td>103.00000</td>\n",
              "      <td>102.000000</td>\n",
              "      <td>108.000000</td>\n",
              "      <td>103.000000</td>\n",
              "      <td>77.000000</td>\n",
              "      <td>20.000000</td>\n",
              "      <td>0.000000</td>\n",
              "      <td>0.000000</td>\n",
              "      <td>0.000000</td>\n",
              "      <td>0.000000</td>\n",
              "      <td>0.000000</td>\n",
              "      <td>0.000000</td>\n",
              "      <td>0.000000</td>\n",
              "      <td>0.000000</td>\n",
              "      <td>0.000000</td>\n",
              "      <td>0.000000</td>\n",
              "      <td>0.000000</td>\n",
              "      <td>0.000000</td>\n",
              "      <td>0.000000</td>\n",
              "      <td>0.000000</td>\n",
              "      <td>0.000000</td>\n",
              "      <td>0.000000</td>\n",
              "      <td>0.000000</td>\n",
              "      <td>8.000000</td>\n",
              "      <td>100.000000</td>\n",
              "      <td>177.000000</td>\n",
              "      <td>...</td>\n",
              "      <td>201.000000</td>\n",
              "      <td>196.000000</td>\n",
              "      <td>176.000000</td>\n",
              "      <td>135.000000</td>\n",
              "      <td>68.000000</td>\n",
              "      <td>60.000000</td>\n",
              "      <td>70.000000</td>\n",
              "      <td>22.000000</td>\n",
              "      <td>0.000000</td>\n",
              "      <td>0.000000</td>\n",
              "      <td>0.000000</td>\n",
              "      <td>0.000000</td>\n",
              "      <td>0.000000</td>\n",
              "      <td>0.000000</td>\n",
              "      <td>0.000000</td>\n",
              "      <td>0.000000</td>\n",
              "      <td>0.000000</td>\n",
              "      <td>0.000000</td>\n",
              "      <td>0.000000</td>\n",
              "      <td>0.000000</td>\n",
              "      <td>2.000000</td>\n",
              "      <td>43.000000</td>\n",
              "      <td>81.000000</td>\n",
              "      <td>105.000000</td>\n",
              "      <td>108.00000</td>\n",
              "      <td>94.000000</td>\n",
              "      <td>84.000000</td>\n",
              "      <td>91.000000</td>\n",
              "      <td>104.000000</td>\n",
              "      <td>93.000000</td>\n",
              "      <td>58.000000</td>\n",
              "      <td>9.000000</td>\n",
              "      <td>0.000000</td>\n",
              "      <td>0.000000</td>\n",
              "      <td>0.000000</td>\n",
              "      <td>0.000000</td>\n",
              "      <td>0.000000</td>\n",
              "      <td>0.000000</td>\n",
              "      <td>0.000000</td>\n",
              "      <td>0.00000</td>\n",
              "    </tr>\n",
              "    <tr>\n",
              "      <th>max</th>\n",
              "      <td>9.000000</td>\n",
              "      <td>16.000000</td>\n",
              "      <td>36.000000</td>\n",
              "      <td>226.000000</td>\n",
              "      <td>164.000000</td>\n",
              "      <td>227.000000</td>\n",
              "      <td>230.000000</td>\n",
              "      <td>224.000000</td>\n",
              "      <td>255.000000</td>\n",
              "      <td>254.000000</td>\n",
              "      <td>255.000000</td>\n",
              "      <td>255.000000</td>\n",
              "      <td>255.000000</td>\n",
              "      <td>255.000000</td>\n",
              "      <td>255.00000</td>\n",
              "      <td>255.000000</td>\n",
              "      <td>255.000000</td>\n",
              "      <td>255.000000</td>\n",
              "      <td>255.000000</td>\n",
              "      <td>255.000000</td>\n",
              "      <td>255.000000</td>\n",
              "      <td>255.000000</td>\n",
              "      <td>255.000000</td>\n",
              "      <td>222.000000</td>\n",
              "      <td>220.000000</td>\n",
              "      <td>239.000000</td>\n",
              "      <td>255.000000</td>\n",
              "      <td>180.000000</td>\n",
              "      <td>189.000000</td>\n",
              "      <td>105.000000</td>\n",
              "      <td>167.000000</td>\n",
              "      <td>219.000000</td>\n",
              "      <td>255.000000</td>\n",
              "      <td>255.000000</td>\n",
              "      <td>255.000000</td>\n",
              "      <td>255.000000</td>\n",
              "      <td>255.000000</td>\n",
              "      <td>255.000000</td>\n",
              "      <td>255.000000</td>\n",
              "      <td>255.000000</td>\n",
              "      <td>...</td>\n",
              "      <td>255.000000</td>\n",
              "      <td>255.000000</td>\n",
              "      <td>255.000000</td>\n",
              "      <td>255.000000</td>\n",
              "      <td>255.000000</td>\n",
              "      <td>255.000000</td>\n",
              "      <td>255.000000</td>\n",
              "      <td>255.000000</td>\n",
              "      <td>255.000000</td>\n",
              "      <td>255.000000</td>\n",
              "      <td>255.000000</td>\n",
              "      <td>246.000000</td>\n",
              "      <td>81.000000</td>\n",
              "      <td>239.000000</td>\n",
              "      <td>230.000000</td>\n",
              "      <td>252.000000</td>\n",
              "      <td>250.000000</td>\n",
              "      <td>255.000000</td>\n",
              "      <td>255.000000</td>\n",
              "      <td>255.000000</td>\n",
              "      <td>255.000000</td>\n",
              "      <td>255.000000</td>\n",
              "      <td>255.000000</td>\n",
              "      <td>255.000000</td>\n",
              "      <td>255.00000</td>\n",
              "      <td>255.000000</td>\n",
              "      <td>255.000000</td>\n",
              "      <td>255.000000</td>\n",
              "      <td>255.000000</td>\n",
              "      <td>255.000000</td>\n",
              "      <td>255.000000</td>\n",
              "      <td>255.000000</td>\n",
              "      <td>255.000000</td>\n",
              "      <td>255.000000</td>\n",
              "      <td>255.000000</td>\n",
              "      <td>255.000000</td>\n",
              "      <td>255.000000</td>\n",
              "      <td>255.000000</td>\n",
              "      <td>255.000000</td>\n",
              "      <td>170.00000</td>\n",
              "    </tr>\n",
              "  </tbody>\n",
              "</table>\n",
              "<p>8 rows × 785 columns</p>\n",
              "</div>"
            ],
            "text/plain": [
              "              label        pixel1  ...      pixel783     pixel784\n",
              "count  60000.000000  60000.000000  ...  60000.000000  60000.00000\n",
              "mean       4.500000      0.000900  ...      0.855517      0.07025\n",
              "std        2.872305      0.094689  ...      9.356960      2.12587\n",
              "min        0.000000      0.000000  ...      0.000000      0.00000\n",
              "25%        2.000000      0.000000  ...      0.000000      0.00000\n",
              "50%        4.500000      0.000000  ...      0.000000      0.00000\n",
              "75%        7.000000      0.000000  ...      0.000000      0.00000\n",
              "max        9.000000     16.000000  ...    255.000000    170.00000\n",
              "\n",
              "[8 rows x 785 columns]"
            ]
          },
          "metadata": {},
          "execution_count": 5
        }
      ]
    },
    {
      "cell_type": "code",
      "source": [
        "class_names = [\"T-shirt/top\", \"Trouser\", \"Pullover\", \"Dress\", \"Coat\",\n",
        "\"Sandal\", \"Shirt\", \"Sneaker\", \"Bag\", \"Ankle boot\"]"
      ],
      "metadata": {
        "id": "rONSF_gJMejZ"
      },
      "execution_count": 55,
      "outputs": []
    },
    {
      "cell_type": "code",
      "metadata": {
        "id": "3NDnt6v07DhJ"
      },
      "source": [
        "from sklearn.model_selection import train_test_split\n",
        "train_set, test_set = train_test_split(fashion, test_size=0.2, random_state=64)"
      ],
      "execution_count": 6,
      "outputs": []
    },
    {
      "cell_type": "code",
      "metadata": {
        "id": "VfWFGyQcQjNu"
      },
      "source": [
        "def show_images(imgs, rows):  \n",
        "  for row in rows:\n",
        "    img = (imgs.iloc[row].to_numpy().reshape((28,28)))\n",
        "\n",
        "    plt.imshow(img, interpolation='nearest',cmap=\"gray\")\n",
        "    plt.show()\n",
        "        \n",
        "    "
      ],
      "execution_count": 7,
      "outputs": []
    },
    {
      "cell_type": "code",
      "metadata": {
        "id": "xm369s7v8XCJ"
      },
      "source": [
        "Y_train = train_set.pop(\"label\")\n",
        "X_train = train_set/255\n"
      ],
      "execution_count": 8,
      "outputs": []
    },
    {
      "cell_type": "code",
      "metadata": {
        "id": "0zJHJiBj21MB"
      },
      "source": [
        "Y_test = test_set.pop(\"label\")\n",
        "X_test = test_set/255"
      ],
      "execution_count": 9,
      "outputs": []
    },
    {
      "cell_type": "code",
      "metadata": {
        "colab": {
          "base_uri": "https://localhost:8080/",
          "height": 1000
        },
        "id": "Z-Zrccb9T8ac",
        "outputId": "afa1612c-f535-4741-c93d-8df9ff459164"
      },
      "source": [
        "show_images(X_train, [3,2,7,8]);"
      ],
      "execution_count": 10,
      "outputs": [
        {
          "output_type": "display_data",
          "data": {
            "image/png": "[encoded data removed]",
            "text/plain": [
              "<Figure size 432x288 with 1 Axes>"
            ]
          },
          "metadata": {
            "needs_background": "light"
          }
        },
        {
          "output_type": "display_data",
          "data": {
            "image/png": "[encoded data removed]",
            "text/plain": [
              "<Figure size 432x288 with 1 Axes>"
            ]
          },
          "metadata": {
            "needs_background": "light"
          }
        },
        {
          "output_type": "display_data",
          "data": {
            "image/png": "[encoded data removed]",
            "text/plain": [
              "<Figure size 432x288 with 1 Axes>"
            ]
          },
          "metadata": {
            "needs_background": "light"
          }
        },
        {
          "output_type": "display_data",
          "data": {
            "image/png": "[encoded data removed]",
            "text/plain": [
              "<Figure size 432x288 with 1 Axes>"
            ]
          },
          "metadata": {
            "needs_background": "light"
          }
        }
      ]
    },
    {
      "cell_type": "code",
      "metadata": {
        "colab": {
          "base_uri": "https://localhost:8080/"
        },
        "id": "kCaWl30BLf15",
        "outputId": "d4b7911e-83fd-44ab-8d57-490802640d91"
      },
      "source": [
        "\n",
        "sgd_clf = SGDClassifier(random_state=42)\n",
        "sgd_clf.fit(X_train, Y_train)"
      ],
      "execution_count": 11,
      "outputs": [
        {
          "output_type": "execute_result",
          "data": {
            "text/plain": [
              "SGDClassifier(random_state=42)"
            ]
          },
          "metadata": {},
          "execution_count": 11
        }
      ]
    },
    {
      "cell_type": "code",
      "metadata": {
        "colab": {
          "base_uri": "https://localhost:8080/"
        },
        "id": "M79bRyEZOY7z",
        "outputId": "398840d4-879b-4c9c-f4a0-95b1072dbe86"
      },
      "source": [
        "Y_train"
      ],
      "execution_count": 12,
      "outputs": [
        {
          "output_type": "execute_result",
          "data": {
            "text/plain": [
              "47180    7\n",
              "33787    4\n",
              "37345    6\n",
              "50467    0\n",
              "5924     7\n",
              "        ..\n",
              "49206    3\n",
              "36006    9\n",
              "22647    5\n",
              "21478    3\n",
              "39364    0\n",
              "Name: label, Length: 48000, dtype: int64"
            ]
          },
          "metadata": {},
          "execution_count": 12
        }
      ]
    },
    {
      "cell_type": "code",
      "metadata": {
        "colab": {
          "base_uri": "https://localhost:8080/"
        },
        "id": "TUQ-nKWY2mjB",
        "outputId": "5475ea26-5adf-4d56-db26-771dd5302aa5"
      },
      "source": [
        "sgd_clf.predict(X_test)"
      ],
      "execution_count": 13,
      "outputs": [
        {
          "output_type": "execute_result",
          "data": {
            "text/plain": [
              "array([8, 3, 3, ..., 3, 8, 5])"
            ]
          },
          "metadata": {},
          "execution_count": 13
        }
      ]
    },
    {
      "cell_type": "code",
      "metadata": {
        "colab": {
          "base_uri": "https://localhost:8080/"
        },
        "id": "apsEH2UT3MvL",
        "outputId": "a12e8324-2a3b-4be3-a561-fc1db22d305c"
      },
      "source": [
        "Y_test.values"
      ],
      "execution_count": 14,
      "outputs": [
        {
          "output_type": "execute_result",
          "data": {
            "text/plain": [
              "array([8, 3, 3, ..., 3, 8, 5])"
            ]
          },
          "metadata": {},
          "execution_count": 14
        }
      ]
    },
    {
      "cell_type": "code",
      "metadata": {
        "colab": {
          "base_uri": "https://localhost:8080/"
        },
        "id": "zgf4l8ao3mtH",
        "outputId": "a5145f06-071c-43b9-ab09-a6511935e076"
      },
      "source": [
        "some_digit_scores = sgd_clf.decision_function(X_test)\n",
        "some_digit_scores"
      ],
      "execution_count": 15,
      "outputs": [
        {
          "output_type": "execute_result",
          "data": {
            "text/plain": [
              "array([[ -3.73601762, -10.59613978,  -9.15911728, ..., -22.94634443,\n",
              "         10.14807411, -17.53523868],\n",
              "       [ -2.84957841,  -4.52319533,  -5.69206334, ..., -13.8876859 ,\n",
              "         -4.87070048, -10.60086292],\n",
              "       [ -1.02212313,  -2.39480656,  -2.92937178, ..., -13.57145795,\n",
              "         -5.33505247, -27.21060931],\n",
              "       ...,\n",
              "       [ -1.69884912,  -3.01143391,  -6.50119747, ..., -16.82904634,\n",
              "         -7.25539777,  -4.49267137],\n",
              "       [ -5.30939634,  -6.12960515,  -8.22898752, ...,  -6.77591676,\n",
              "         10.48208171, -14.95634995],\n",
              "       [ -3.23987003,  -5.33278853,  -4.04763212, ...,  -3.06276608,\n",
              "         -1.13207419, -18.37636352]])"
            ]
          },
          "metadata": {},
          "execution_count": 15
        }
      ]
    },
    {
      "cell_type": "code",
      "metadata": {
        "colab": {
          "base_uri": "https://localhost:8080/"
        },
        "id": "ePM2ljio5K6J",
        "outputId": "5562da16-27d5-4ea5-8653-2a4a8e325ec5"
      },
      "source": [
        "cross_val_score(sgd_clf, X_train, Y_train, cv=3, scoring=\"accuracy\")"
      ],
      "execution_count": 16,
      "outputs": [
        {
          "output_type": "execute_result",
          "data": {
            "text/plain": [
              "array([0.825625 , 0.835375 , 0.8394375])"
            ]
          },
          "metadata": {},
          "execution_count": 16
        }
      ]
    },
    {
      "cell_type": "code",
      "source": [
        "######## ANN   ###############\n",
        "X_train=X_train.to_numpy()\n",
        "X_test=X_test.to_numpy()\n",
        "Y_train=Y_train.to_numpy()\n",
        "Y_test=Y_test.to_numpy()"
      ],
      "metadata": {
        "id": "NxHlTBa1Ci18"
      },
      "execution_count": 17,
      "outputs": []
    },
    {
      "cell_type": "code",
      "source": [
        "X_train.shape  "
      ],
      "metadata": {
        "colab": {
          "base_uri": "https://localhost:8080/"
        },
        "id": "8En0ffu-n2-3",
        "outputId": "26e52130-e209-48b5-b3eb-b66e4f93f991"
      },
      "execution_count": 18,
      "outputs": [
        {
          "output_type": "execute_result",
          "data": {
            "text/plain": [
              "(48000, 784)"
            ]
          },
          "metadata": {},
          "execution_count": 18
        }
      ]
    },
    {
      "cell_type": "code",
      "source": [
        "from tensorflow import keras\n",
        "net = keras.models.Sequential([\n",
        "keras.layers.Flatten(input_shape=[784,]),\n",
        "keras.layers.Dense(300, activation=\"relu\"),\n",
        "keras.layers.Dense(100, activation=\"relu\"),\n",
        "keras.layers.Dense(10, activation=\"softmax\")\n",
        "])"
      ],
      "metadata": {
        "id": "ig8fySuPje4e"
      },
      "execution_count": 19,
      "outputs": []
    },
    {
      "cell_type": "code",
      "source": [
        "net.layers"
      ],
      "metadata": {
        "colab": {
          "base_uri": "https://localhost:8080/"
        },
        "id": "gNwOMcbUMEfB",
        "outputId": "44b00da4-68a8-4497-ae0a-e45d1f1eb1c3"
      },
      "execution_count": 20,
      "outputs": [
        {
          "output_type": "execute_result",
          "data": {
            "text/plain": [
              "[<keras.layers.core.flatten.Flatten at 0x7f833132cd50>,\n",
              " <keras.layers.core.dense.Dense at 0x7f833130ad10>,\n",
              " <keras.layers.core.dense.Dense at 0x7f83316a1090>,\n",
              " <keras.layers.core.dense.Dense at 0x7f83317667d0>]"
            ]
          },
          "metadata": {},
          "execution_count": 20
        }
      ]
    },
    {
      "cell_type": "code",
      "source": [
        "net.layers[1].name"
      ],
      "metadata": {
        "colab": {
          "base_uri": "https://localhost:8080/",
          "height": 36
        },
        "id": "iDtQ6t-KMIQJ",
        "outputId": "f42a86be-b330-4c36-96e4-1bd3237ffc31"
      },
      "execution_count": 21,
      "outputs": [
        {
          "output_type": "execute_result",
          "data": {
            "application/vnd.google.colaboratory.intrinsic+json": {
              "type": "string"
            },
            "text/plain": [
              "'dense'"
            ]
          },
          "metadata": {},
          "execution_count": 21
        }
      ]
    },
    {
      "cell_type": "code",
      "source": [
        "weights, biases = net.layers[1].get_weights()"
      ],
      "metadata": {
        "id": "VYLImiZDM8RU"
      },
      "execution_count": 22,
      "outputs": []
    },
    {
      "cell_type": "code",
      "source": [
        "weights.shape"
      ],
      "metadata": {
        "colab": {
          "base_uri": "https://localhost:8080/"
        },
        "id": "3EDSSdc0LLOm",
        "outputId": "c570f566-85e3-484d-f698-c6337b9d6826"
      },
      "execution_count": 23,
      "outputs": [
        {
          "output_type": "execute_result",
          "data": {
            "text/plain": [
              "(784, 300)"
            ]
          },
          "metadata": {},
          "execution_count": 23
        }
      ]
    },
    {
      "cell_type": "code",
      "source": [
        "net.compile(loss=\"sparse_categorical_crossentropy\",\n",
        "optimizer=\"sgd\",\n",
        "metrics=[\"accuracy\"])"
      ],
      "metadata": {
        "id": "ATtYqWONjhH6"
      },
      "execution_count": 24,
      "outputs": []
    },
    {
      "cell_type": "code",
      "source": [
        "(Y_test.dtype)"
      ],
      "metadata": {
        "colab": {
          "base_uri": "https://localhost:8080/"
        },
        "id": "Re10cBhylNJM",
        "outputId": "d91fc037-74fb-45da-ac53-b4ee4fc27951"
      },
      "execution_count": 25,
      "outputs": [
        {
          "output_type": "execute_result",
          "data": {
            "text/plain": [
              "dtype('int64')"
            ]
          },
          "metadata": {},
          "execution_count": 25
        }
      ]
    },
    {
      "cell_type": "code",
      "source": [
        "history = net.fit(X_train, Y_train, epochs=40,validation_data=(X_test, Y_test))"
      ],
      "metadata": {
        "colab": {
          "base_uri": "https://localhost:8080/"
        },
        "id": "Vuz9LIj7ku30",
        "outputId": "73b79d78-26a4-4855-ad55-7a3ee0f9247b"
      },
      "execution_count": 26,
      "outputs": [
        {
          "output_type": "stream",
          "name": "stdout",
          "text": [
            "Epoch 1/40\n",
            "1500/1500 [==============================] - 9s 5ms/step - loss: 0.7397 - accuracy: 0.7586 - val_loss: 0.5398 - val_accuracy: 0.8087\n",
            "Epoch 2/40\n",
            "1500/1500 [==============================] - 7s 5ms/step - loss: 0.5037 - accuracy: 0.8249 - val_loss: 0.4608 - val_accuracy: 0.8394\n",
            "Epoch 3/40\n",
            "1500/1500 [==============================] - 7s 5ms/step - loss: 0.4567 - accuracy: 0.8408 - val_loss: 0.4713 - val_accuracy: 0.8342\n",
            "Epoch 4/40\n",
            "1500/1500 [==============================] - 7s 5ms/step - loss: 0.4301 - accuracy: 0.8504 - val_loss: 0.4169 - val_accuracy: 0.8512\n",
            "Epoch 5/40\n",
            "1500/1500 [==============================] - 7s 5ms/step - loss: 0.4089 - accuracy: 0.8563 - val_loss: 0.4019 - val_accuracy: 0.8565\n",
            "Epoch 6/40\n",
            "1500/1500 [==============================] - 7s 5ms/step - loss: 0.3924 - accuracy: 0.8618 - val_loss: 0.3995 - val_accuracy: 0.8588\n",
            "Epoch 7/40\n",
            "1500/1500 [==============================] - 7s 4ms/step - loss: 0.3781 - accuracy: 0.8670 - val_loss: 0.3964 - val_accuracy: 0.8598\n",
            "Epoch 8/40\n",
            "1500/1500 [==============================] - 7s 5ms/step - loss: 0.3668 - accuracy: 0.8703 - val_loss: 0.3979 - val_accuracy: 0.8604\n",
            "Epoch 9/40\n",
            "1500/1500 [==============================] - 7s 5ms/step - loss: 0.3558 - accuracy: 0.8733 - val_loss: 0.3660 - val_accuracy: 0.8709\n",
            "Epoch 10/40\n",
            "1500/1500 [==============================] - 7s 5ms/step - loss: 0.3460 - accuracy: 0.8766 - val_loss: 0.3792 - val_accuracy: 0.8640\n",
            "Epoch 11/40\n",
            "1500/1500 [==============================] - 8s 5ms/step - loss: 0.3380 - accuracy: 0.8795 - val_loss: 0.3702 - val_accuracy: 0.8677\n",
            "Epoch 12/40\n",
            "1500/1500 [==============================] - 7s 5ms/step - loss: 0.3299 - accuracy: 0.8818 - val_loss: 0.3712 - val_accuracy: 0.8675\n",
            "Epoch 13/40\n",
            "1500/1500 [==============================] - 7s 5ms/step - loss: 0.3219 - accuracy: 0.8847 - val_loss: 0.3561 - val_accuracy: 0.8716\n",
            "Epoch 14/40\n",
            "1500/1500 [==============================] - 7s 5ms/step - loss: 0.3154 - accuracy: 0.8879 - val_loss: 0.3486 - val_accuracy: 0.8728\n",
            "Epoch 15/40\n",
            "1500/1500 [==============================] - 7s 5ms/step - loss: 0.3088 - accuracy: 0.8890 - val_loss: 0.3580 - val_accuracy: 0.8672\n",
            "Epoch 16/40\n",
            "1500/1500 [==============================] - 7s 5ms/step - loss: 0.3018 - accuracy: 0.8914 - val_loss: 0.3472 - val_accuracy: 0.8759\n",
            "Epoch 17/40\n",
            "1500/1500 [==============================] - 7s 4ms/step - loss: 0.2955 - accuracy: 0.8943 - val_loss: 0.3567 - val_accuracy: 0.8716\n",
            "Epoch 18/40\n",
            "1500/1500 [==============================] - 7s 5ms/step - loss: 0.2909 - accuracy: 0.8958 - val_loss: 0.3413 - val_accuracy: 0.8772\n",
            "Epoch 19/40\n",
            "1500/1500 [==============================] - 7s 5ms/step - loss: 0.2852 - accuracy: 0.8976 - val_loss: 0.3335 - val_accuracy: 0.8799\n",
            "Epoch 20/40\n",
            "1500/1500 [==============================] - 7s 5ms/step - loss: 0.2791 - accuracy: 0.8995 - val_loss: 0.3432 - val_accuracy: 0.8777\n",
            "Epoch 21/40\n",
            "1500/1500 [==============================] - 8s 5ms/step - loss: 0.2745 - accuracy: 0.9000 - val_loss: 0.3369 - val_accuracy: 0.8790\n",
            "Epoch 22/40\n",
            "1500/1500 [==============================] - 8s 5ms/step - loss: 0.2700 - accuracy: 0.9034 - val_loss: 0.3346 - val_accuracy: 0.8770\n",
            "Epoch 23/40\n",
            "1500/1500 [==============================] - 7s 5ms/step - loss: 0.2655 - accuracy: 0.9047 - val_loss: 0.3257 - val_accuracy: 0.8829\n",
            "Epoch 24/40\n",
            "1500/1500 [==============================] - 7s 5ms/step - loss: 0.2598 - accuracy: 0.9068 - val_loss: 0.3391 - val_accuracy: 0.8774\n",
            "Epoch 25/40\n",
            "1500/1500 [==============================] - 7s 5ms/step - loss: 0.2556 - accuracy: 0.9083 - val_loss: 0.3145 - val_accuracy: 0.8867\n",
            "Epoch 26/40\n",
            "1500/1500 [==============================] - 7s 5ms/step - loss: 0.2509 - accuracy: 0.9095 - val_loss: 0.3211 - val_accuracy: 0.8841\n",
            "Epoch 27/40\n",
            "1500/1500 [==============================] - 7s 5ms/step - loss: 0.2467 - accuracy: 0.9124 - val_loss: 0.3413 - val_accuracy: 0.8758\n",
            "Epoch 28/40\n",
            "1500/1500 [==============================] - 7s 5ms/step - loss: 0.2434 - accuracy: 0.9120 - val_loss: 0.3119 - val_accuracy: 0.8882\n",
            "Epoch 29/40\n",
            "1500/1500 [==============================] - 7s 5ms/step - loss: 0.2379 - accuracy: 0.9145 - val_loss: 0.3172 - val_accuracy: 0.8850\n",
            "Epoch 30/40\n",
            "1500/1500 [==============================] - 8s 5ms/step - loss: 0.2351 - accuracy: 0.9157 - val_loss: 0.3111 - val_accuracy: 0.8872\n",
            "Epoch 31/40\n",
            "1500/1500 [==============================] - 7s 5ms/step - loss: 0.2307 - accuracy: 0.9180 - val_loss: 0.3188 - val_accuracy: 0.8880\n",
            "Epoch 32/40\n",
            "1500/1500 [==============================] - 7s 4ms/step - loss: 0.2272 - accuracy: 0.9183 - val_loss: 0.3153 - val_accuracy: 0.8852\n",
            "Epoch 33/40\n",
            "1500/1500 [==============================] - 7s 4ms/step - loss: 0.2236 - accuracy: 0.9189 - val_loss: 0.3160 - val_accuracy: 0.8882\n",
            "Epoch 34/40\n",
            "1500/1500 [==============================] - 7s 5ms/step - loss: 0.2189 - accuracy: 0.9212 - val_loss: 0.3219 - val_accuracy: 0.8858\n",
            "Epoch 35/40\n",
            "1500/1500 [==============================] - 8s 5ms/step - loss: 0.2155 - accuracy: 0.9214 - val_loss: 0.3074 - val_accuracy: 0.8920\n",
            "Epoch 36/40\n",
            "1500/1500 [==============================] - 7s 5ms/step - loss: 0.2117 - accuracy: 0.9232 - val_loss: 0.3354 - val_accuracy: 0.8802\n",
            "Epoch 37/40\n",
            "1500/1500 [==============================] - 7s 5ms/step - loss: 0.2093 - accuracy: 0.9246 - val_loss: 0.3054 - val_accuracy: 0.8905\n",
            "Epoch 38/40\n",
            "1500/1500 [==============================] - 7s 4ms/step - loss: 0.2058 - accuracy: 0.9266 - val_loss: 0.3118 - val_accuracy: 0.8903\n",
            "Epoch 39/40\n",
            "1500/1500 [==============================] - 7s 5ms/step - loss: 0.2017 - accuracy: 0.9286 - val_loss: 0.3090 - val_accuracy: 0.8934\n",
            "Epoch 40/40\n",
            "1500/1500 [==============================] - 7s 5ms/step - loss: 0.1997 - accuracy: 0.9286 - val_loss: 0.3255 - val_accuracy: 0.8878\n"
          ]
        }
      ]
    },
    {
      "cell_type": "code",
      "source": [
        "pd.DataFrame(history.history).plot(figsize=(8, 5))\n",
        "plt.grid(True)\n",
        "plt.gca().set_ylim(0, 1) # set the vertical range to [0-1]\n",
        "plt.show()"
      ],
      "metadata": {
        "colab": {
          "base_uri": "https://localhost:8080/",
          "height": 324
        },
        "id": "YUh9CjJzluIo",
        "outputId": "d098ae24-168b-4afb-f1f1-b9410c6ccc2c"
      },
      "execution_count": 27,
      "outputs": [
        {
          "output_type": "display_data",
          "data": {
            "image/png": "[encoded data removed]",
            "text/plain": [
              "<Figure size 576x360 with 1 Axes>"
            ]
          },
          "metadata": {
            "needs_background": "light"
          }
        }
      ]
    },
    {
      "cell_type": "code",
      "source": [
        "net.summary()"
      ],
      "metadata": {
        "colab": {
          "base_uri": "https://localhost:8080/"
        },
        "id": "6hpG9HJ5IIOQ",
        "outputId": "8fea01ac-f9de-4182-a65b-c6f768cdde2d"
      },
      "execution_count": 28,
      "outputs": [
        {
          "output_type": "stream",
          "name": "stdout",
          "text": [
            "Model: \"sequential\"\n",
            "_________________________________________________________________\n",
            " Layer (type)                Output Shape              Param #   \n",
            "=================================================================\n",
            " flatten (Flatten)           (None, 784)               0         \n",
            "                                                                 \n",
            " dense (Dense)               (None, 300)               235500    \n",
            "                                                                 \n",
            " dense_1 (Dense)             (None, 100)               30100     \n",
            "                                                                 \n",
            " dense_2 (Dense)             (None, 10)                1010      \n",
            "                                                                 \n",
            "=================================================================\n",
            "Total params: 266,610\n",
            "Trainable params: 266,610\n",
            "Non-trainable params: 0\n",
            "_________________________________________________________________\n"
          ]
        }
      ]
    },
    {
      "cell_type": "code",
      "metadata": {
        "id": "RAAPGLK7Jf6k",
        "colab": {
          "base_uri": "https://localhost:8080/"
        },
        "outputId": "91b69440-536a-4bde-a3c7-4636fd71cd52"
      },
      "source": [
        "X_new = X_test[:3]\n",
        "y_proba = net.predict(X_new)\n",
        "y_proba.round(2)"
      ],
      "execution_count": 29,
      "outputs": [
        {
          "output_type": "execute_result",
          "data": {
            "text/plain": [
              "array([[0.  , 0.  , 0.  , 0.  , 0.  , 0.  , 0.  , 0.  , 1.  , 0.  ],\n",
              "       [0.  , 0.  , 0.  , 0.99, 0.  , 0.  , 0.  , 0.  , 0.  , 0.  ],\n",
              "       [0.  , 0.  , 0.  , 0.99, 0.  , 0.  , 0.  , 0.  , 0.  , 0.  ]],\n",
              "      dtype=float32)"
            ]
          },
          "metadata": {},
          "execution_count": 29
        }
      ]
    },
    {
      "cell_type": "code",
      "source": [
        "def show_images(imgs, rows):  \n",
        "  for row in rows:\n",
        "    img = (imgs[row].reshape((28,28)))\n",
        "\n",
        "    plt.imshow(img, interpolation='nearest',cmap=\"gray\")\n",
        "    plt.show()\n",
        "        "
      ],
      "metadata": {
        "id": "-OcW9l0sLLVM"
      },
      "execution_count": 40,
      "outputs": []
    },
    {
      "cell_type": "code",
      "source": [
        "show_images(X_test, [i for i in range(10)]);"
      ],
      "metadata": {
        "colab": {
          "base_uri": "https://localhost:8080/",
          "height": 1000
        },
        "id": "iaxRxsyfLKg3",
        "outputId": "0ceb611c-180f-401e-cd8f-48e49fb5694b"
      },
      "execution_count": 52,
      "outputs": [
        {
          "output_type": "display_data",
          "data": {
            "image/png": "[encoded data removed]",
            "text/plain": [
              "<Figure size 432x288 with 1 Axes>"
            ]
          },
          "metadata": {
            "needs_background": "light"
          }
        },
        {
          "output_type": "display_data",
          "data": {
            "image/png": "[encoded data removed]",
            "text/plain": [
              "<Figure size 432x288 with 1 Axes>"
            ]
          },
          "metadata": {
            "needs_background": "light"
          }
        },
        {
          "output_type": "display_data",
          "data": {
            "image/png": "[encoded data removed]",
            "text/plain": [
              "<Figure size 432x288 with 1 Axes>"
            ]
          },
          "metadata": {
            "needs_background": "light"
          }
        },
        {
          "output_type": "display_data",
          "data": {
            "image/png": "[encoded data removed]",
            "text/plain": [
              "<Figure size 432x288 with 1 Axes>"
            ]
          },
          "metadata": {
            "needs_background": "light"
          }
        },
        {
          "output_type": "display_data",
          "data": {
            "image/png": "[encoded data removed]",
            "text/plain": [
              "<Figure size 432x288 with 1 Axes>"
            ]
          },
          "metadata": {
            "needs_background": "light"
          }
        },
        {
          "output_type": "display_data",
          "data": {
            "image/png": "[encoded data removed]",
            "text/plain": [
              "<Figure size 432x288 with 1 Axes>"
            ]
          },
          "metadata": {
            "needs_background": "light"
          }
        },
        {
          "output_type": "display_data",
          "data": {
            "image/png": "[encoded data removed]",
            "text/plain": [
              "<Figure size 432x288 with 1 Axes>"
            ]
          },
          "metadata": {
            "needs_background": "light"
          }
        },
        {
          "output_type": "display_data",
          "data": {
            "image/png": "[encoded data removed]",
            "text/plain": [
              "<Figure size 432x288 with 1 Axes>"
            ]
          },
          "metadata": {
            "needs_background": "light"
          }
        },
        {
          "output_type": "display_data",
          "data": {
            "image/png": "[encoded data removed]",
            "text/plain": [
              "<Figure size 432x288 with 1 Axes>"
            ]
          },
          "metadata": {
            "needs_background": "light"
          }
        },
        {
          "output_type": "display_data",
          "data": {
            "image/png": "[encoded data removed]",
            "text/plain": [
              "<Figure size 432x288 with 1 Axes>"
            ]
          },
          "metadata": {
            "needs_background": "light"
          }
        }
      ]
    },
    {
      "cell_type": "code",
      "source": [
        "y_pred = np.argmax(net.predict(X_test[:10]),axis=1)"
      ],
      "metadata": {
        "id": "LJxw1lb8MAP3"
      },
      "execution_count": 68,
      "outputs": []
    },
    {
      "cell_type": "code",
      "source": [
        "class_names = [\"T-shirt/top\", \"Trouser\", \"Pullover\", \"Dress\", \"Coat\",\n",
        "\"Sandal\", \"Shirt\", \"Sneaker\", \"Bag\", \"Ankle boot\"]"
      ],
      "metadata": {
        "id": "AfUvVujWNb3I"
      },
      "execution_count": null,
      "outputs": []
    },
    {
      "cell_type": "code",
      "source": [
        "np.array(class_names)[y_pred]"
      ],
      "metadata": {
        "colab": {
          "base_uri": "https://localhost:8080/"
        },
        "id": "k0kBrczJNMah",
        "outputId": "d720084b-9c4c-4d9d-c9cf-a0786876c134"
      },
      "execution_count": 69,
      "outputs": [
        {
          "output_type": "execute_result",
          "data": {
            "text/plain": [
              "array(['Bag', 'Dress', 'Dress', 'Shirt', 'T-shirt/top', 'Bag', 'Trouser',\n",
              "       'Dress', 'Coat', 'Ankle boot'], dtype='<U11')"
            ]
          },
          "metadata": {},
          "execution_count": 69
        }
      ]
    }
  ]
}